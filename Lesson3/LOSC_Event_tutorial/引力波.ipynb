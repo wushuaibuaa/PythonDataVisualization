{
 "cells": [
  {
   "cell_type": "markdown",
   "metadata": {},
   "source": [
    "# 什么是引力波？\n",
    "\n",
    "\n",
    "首先，什么是引力波？在物理学上，引力波是爱因斯坦广义相对论所预言的一种以光速传播的时空波动，如同石头丢进水里产生的波纹一样，引力波被视为宇宙中的“时空涟漪”。通常引力波的产生非常困难，地球围绕太阳以每秒30千米的速度前进，发出的引力波功率仅为200瓦，还不如家用电饭煲功率大。宇宙中大质量天体的加速、碰撞和合并等事件才可以形成强大的引力波，但能产生这种较强引力波的波源距离地球都十分遥远，传播到地球时变得非常微弱。\n"
   ]
  },
  {
   "cell_type": "markdown",
   "metadata": {},
   "source": [
    "# LIGO是什么？\n",
    "\n",
    "激光干涉引力波观测站（ Laser Interferometer Gravitational-Wave Observatory）LIGO是加州理工学院（Caltech）和麻省理工学院（MIT）的合作实验室，现在也有其他的大学参与。实验资金来源于美国国家科学基金会。LIGO是用来寻找宇宙中的引力波，从而可以验证黑洞的存在和检验广义相对论。\n",
    "\n",
    "LIGO主要有两个观测点，位于路易斯安那Livingston Parish的LIGO Livingston观测点，和华盛顿 Hanford的LIGO Hanford观测点。除此之外，在加州Passadena 的Caltech校园中还有LIGO 40m Prototype 。"
   ]
  },
  {
   "cell_type": "markdown",
   "metadata": {},
   "source": [
    "\n",
    "\n",
    "# LIGO是如何探测引力波的？\n",
    "\n",
    "视频\n"
   ]
  },
  {
   "cell_type": "markdown",
   "metadata": {},
   "source": [
    "# GWPY：LIGO用它分析引力波数据\n",
    "\n",
    "## 安装\n",
    "\n",
    "很简单，pip install gwpy就可以完成安装。\n",
    "\n",
    "gwpy使用的依赖包比较多，包括numpy、 scipy、 cycler、matplotlib、astropy等。\n",
    "\n",
    "## 使用\n",
    "\n",
    "GWPY是一个面向对象编程的Python包，也就是说，数据对象是这个包的核心关注点。每一个数据对象都体现为一个类实例，包含了其属性和包含的数据。\n",
    "\n",
    "如果想创建一个新的类实例，建议使用标准的构建器（constructor）。举个例子，我们可以使用一个数据数组，生成一个TimeSeries对象："
   ]
  },
  {
   "cell_type": "code",
   "execution_count": 7,
   "metadata": {},
   "outputs": [],
   "source": [
    "from gwpy.timeseries import TimeSeries\n",
    "mydata = TimeSeries([1,2,3,4,5,6,7,8,9,10], sample_rate=1, epoch=0)"
   ]
  },
  {
   "cell_type": "markdown",
   "metadata": {},
   "source": [
    "或者从在线数据服务器上下载："
   ]
  },
  {
   "cell_type": "code",
   "execution_count": 8,
   "metadata": {},
   "outputs": [
    {
     "ename": "ImportError",
     "evalue": "No module named nds2",
     "output_type": "error",
     "traceback": [
      "\u001b[0;31m---------------------------------------------------------------------------\u001b[0m",
      "\u001b[0;31mImportError\u001b[0m                               Traceback (most recent call last)",
      "\u001b[0;32m<ipython-input-8-8e0027c7f652>\u001b[0m in \u001b[0;36m<module>\u001b[0;34m()\u001b[0m\n\u001b[1;32m      1\u001b[0m \u001b[0;32mfrom\u001b[0m \u001b[0mgwpy\u001b[0m\u001b[0;34m.\u001b[0m\u001b[0mtimeseries\u001b[0m \u001b[0;32mimport\u001b[0m \u001b[0mTimeSeries\u001b[0m\u001b[0;34m\u001b[0m\u001b[0m\n\u001b[0;32m----> 2\u001b[0;31m \u001b[0mmydata\u001b[0m \u001b[0;34m=\u001b[0m \u001b[0mTimeSeries\u001b[0m\u001b[0;34m.\u001b[0m\u001b[0mfetch\u001b[0m\u001b[0;34m(\u001b[0m\u001b[0;34m'H1:LDAS-STRAIN'\u001b[0m\u001b[0;34m,\u001b[0m \u001b[0;36m964656015\u001b[0m\u001b[0;34m,\u001b[0m \u001b[0;36m964656615\u001b[0m\u001b[0;34m)\u001b[0m\u001b[0;34m\u001b[0m\u001b[0m\n\u001b[0m",
      "\u001b[0;32m/anaconda3/lib/python3.6/site-packages/gwpy/timeseries/core.py\u001b[0m in \u001b[0;36mfetch\u001b[0;34m(cls, channel, start, end, host, port, verbose, connection, verify, pad, allow_tape, type, dtype)\u001b[0m\n\u001b[1;32m    362\u001b[0m             \u001b[0;34m[\u001b[0m\u001b[0mchannel\u001b[0m\u001b[0;34m]\u001b[0m\u001b[0;34m,\u001b[0m \u001b[0mstart\u001b[0m\u001b[0;34m,\u001b[0m \u001b[0mend\u001b[0m\u001b[0;34m,\u001b[0m \u001b[0mhost\u001b[0m\u001b[0;34m=\u001b[0m\u001b[0mhost\u001b[0m\u001b[0;34m,\u001b[0m \u001b[0mport\u001b[0m\u001b[0;34m=\u001b[0m\u001b[0mport\u001b[0m\u001b[0;34m,\u001b[0m \u001b[0mverbose\u001b[0m\u001b[0;34m=\u001b[0m\u001b[0mverbose\u001b[0m\u001b[0;34m,\u001b[0m\u001b[0;34m\u001b[0m\u001b[0m\n\u001b[1;32m    363\u001b[0m             \u001b[0mconnection\u001b[0m\u001b[0;34m=\u001b[0m\u001b[0mconnection\u001b[0m\u001b[0;34m,\u001b[0m \u001b[0mverify\u001b[0m\u001b[0;34m=\u001b[0m\u001b[0mverify\u001b[0m\u001b[0;34m,\u001b[0m \u001b[0mpad\u001b[0m\u001b[0;34m=\u001b[0m\u001b[0mpad\u001b[0m\u001b[0;34m,\u001b[0m\u001b[0;34m\u001b[0m\u001b[0m\n\u001b[0;32m--> 364\u001b[0;31m             allow_tape=allow_tape, type=type, dtype=dtype)[str(channel)]\n\u001b[0m\u001b[1;32m    365\u001b[0m \u001b[0;34m\u001b[0m\u001b[0m\n\u001b[1;32m    366\u001b[0m     \u001b[0;34m@\u001b[0m\u001b[0mclassmethod\u001b[0m\u001b[0;34m\u001b[0m\u001b[0m\n",
      "\u001b[0;32m/anaconda3/lib/python3.6/site-packages/gwpy/timeseries/core.py\u001b[0m in \u001b[0;36mfetch\u001b[0;34m(cls, channels, start, end, host, port, verify, verbose, connection, pad, allow_tape, type, dtype)\u001b[0m\n\u001b[1;32m   1152\u001b[0m                                          \u001b[0mport\u001b[0m\u001b[0;34m=\u001b[0m\u001b[0mport_\u001b[0m\u001b[0;34m,\u001b[0m \u001b[0mverbose\u001b[0m\u001b[0;34m=\u001b[0m\u001b[0mverbose\u001b[0m\u001b[0;34m,\u001b[0m\u001b[0;34m\u001b[0m\u001b[0m\n\u001b[1;32m   1153\u001b[0m                                          \u001b[0mtype\u001b[0m\u001b[0;34m=\u001b[0m\u001b[0mtype\u001b[0m\u001b[0;34m,\u001b[0m \u001b[0mdtype\u001b[0m\u001b[0;34m=\u001b[0m\u001b[0mdtype\u001b[0m\u001b[0;34m,\u001b[0m \u001b[0mpad\u001b[0m\u001b[0;34m=\u001b[0m\u001b[0mpad\u001b[0m\u001b[0;34m,\u001b[0m\u001b[0;34m\u001b[0m\u001b[0m\n\u001b[0;32m-> 1154\u001b[0;31m                                          allow_tape=allow_tape_)\n\u001b[0m\u001b[1;32m   1155\u001b[0m                     \u001b[0;32mexcept\u001b[0m \u001b[0;34m(\u001b[0m\u001b[0mRuntimeError\u001b[0m\u001b[0;34m,\u001b[0m \u001b[0mValueError\u001b[0m\u001b[0;34m)\u001b[0m \u001b[0;32mas\u001b[0m \u001b[0mexc\u001b[0m\u001b[0;34m:\u001b[0m\u001b[0;34m\u001b[0m\u001b[0m\n\u001b[1;32m   1156\u001b[0m                         warnings.warn(str(exc).split('\\n')[0],\n",
      "\u001b[0;32m/anaconda3/lib/python3.6/site-packages/gwpy/timeseries/core.py\u001b[0m in \u001b[0;36mfetch\u001b[0;34m(cls, channels, start, end, host, port, verify, verbose, connection, pad, allow_tape, type, dtype)\u001b[0m\n\u001b[1;32m   1132\u001b[0m             print_verbose(\"Opening new connection to {0}...\".format(host),\n\u001b[1;32m   1133\u001b[0m                           end=' ', verbose=verbose)\n\u001b[0;32m-> 1134\u001b[0;31m             \u001b[0mconnection\u001b[0m \u001b[0;34m=\u001b[0m \u001b[0mio_nds2\u001b[0m\u001b[0;34m.\u001b[0m\u001b[0mauth_connect\u001b[0m\u001b[0;34m(\u001b[0m\u001b[0mhost\u001b[0m\u001b[0;34m,\u001b[0m \u001b[0mport\u001b[0m\u001b[0;34m)\u001b[0m\u001b[0;34m\u001b[0m\u001b[0m\n\u001b[0m\u001b[1;32m   1135\u001b[0m             \u001b[0mprint_verbose\u001b[0m\u001b[0;34m(\u001b[0m\u001b[0;34m'connected'\u001b[0m\u001b[0;34m,\u001b[0m \u001b[0mverbose\u001b[0m\u001b[0;34m=\u001b[0m\u001b[0mverbose\u001b[0m\u001b[0;34m)\u001b[0m\u001b[0;34m\u001b[0m\u001b[0m\n\u001b[1;32m   1136\u001b[0m         \u001b[0;31m# otherwise cycle through connections in logical order\u001b[0m\u001b[0;34m\u001b[0m\u001b[0;34m\u001b[0m\u001b[0m\n",
      "\u001b[0;32m/anaconda3/lib/python3.6/site-packages/gwpy/io/nds2.py\u001b[0m in \u001b[0;36mauth_connect\u001b[0;34m(host, port)\u001b[0m\n\u001b[1;32m    315\u001b[0m     \"\"\"\n\u001b[1;32m    316\u001b[0m     \u001b[0;32mif\u001b[0m \u001b[0;32mnot\u001b[0m \u001b[0mHAS_NDS2\u001b[0m\u001b[0;34m:\u001b[0m\u001b[0;34m\u001b[0m\u001b[0m\n\u001b[0;32m--> 317\u001b[0;31m         \u001b[0;32mraise\u001b[0m \u001b[0mImportError\u001b[0m\u001b[0;34m(\u001b[0m\u001b[0;34m\"No module named nds2\"\u001b[0m\u001b[0;34m)\u001b[0m\u001b[0;34m\u001b[0m\u001b[0m\n\u001b[0m\u001b[1;32m    318\u001b[0m \u001b[0;34m\u001b[0m\u001b[0m\n\u001b[1;32m    319\u001b[0m     \u001b[0;31m# set default port for NDS1 connections (required, I think)\u001b[0m\u001b[0;34m\u001b[0m\u001b[0;34m\u001b[0m\u001b[0m\n",
      "\u001b[0;31mImportError\u001b[0m: No module named nds2"
     ]
    }
   ],
   "source": [
    "from gwpy.timeseries import TimeSeries\n",
    "mydata = TimeSeries.fetch('H1:LDAS-STRAIN', 964656015, 964656615)"
   ]
  },
  {
   "cell_type": "markdown",
   "metadata": {},
   "source": [
    "## 核心数据对象\n",
    "\n",
    "GWPY提供了4种核心数据对象，分别代表引力波探测器所产生的四种标准数据：\n",
    "\n",
    "1. TimeSeries（时间序列数据）\n",
    "2. Spectrum（光谱数据）\n",
    "3. Spectrogram（光谱图）\n",
    "4. DataQualityFlag"
   ]
  },
  {
   "cell_type": "markdown",
   "metadata": {},
   "source": [
    "# 引力波数据可视化\n",
    "\n"
   ]
  },
  {
   "cell_type": "code",
   "execution_count": 3,
   "metadata": {},
   "outputs": [
    {
     "ename": "ModuleNotFoundError",
     "evalue": "No module named 'readligo'",
     "output_type": "error",
     "traceback": [
      "\u001b[0;31m---------------------------------------------------------------------------\u001b[0m",
      "\u001b[0;31mModuleNotFoundError\u001b[0m                       Traceback (most recent call last)",
      "\u001b[0;32m<ipython-input-3-33c57b147786>\u001b[0m in \u001b[0;36m<module>\u001b[0;34m()\u001b[0m\n\u001b[1;32m     14\u001b[0m \u001b[0;34m\u001b[0m\u001b[0m\n\u001b[1;32m     15\u001b[0m \u001b[0;31m# LIGO-specific readligo.py\u001b[0m\u001b[0;34m\u001b[0m\u001b[0;34m\u001b[0m\u001b[0m\n\u001b[0;32m---> 16\u001b[0;31m \u001b[0;32mimport\u001b[0m \u001b[0mreadligo\u001b[0m \u001b[0;32mas\u001b[0m \u001b[0mrl\u001b[0m\u001b[0;34m\u001b[0m\u001b[0m\n\u001b[0m\u001b[1;32m     17\u001b[0m \u001b[0;34m\u001b[0m\u001b[0m\n\u001b[1;32m     18\u001b[0m \u001b[0;31m# you might get a matplotlib warning here; you can ignore it.\u001b[0m\u001b[0;34m\u001b[0m\u001b[0;34m\u001b[0m\u001b[0m\n",
      "\u001b[0;31mModuleNotFoundError\u001b[0m: No module named 'readligo'"
     ]
    }
   ],
   "source": [
    "# Standard python numerical analysis imports:\n",
    "import numpy as np\n",
    "from scipy import signal\n",
    "from scipy.interpolate import interp1d\n",
    "from scipy.signal import butter, filtfilt, iirdesign, zpk2tf, freqz\n",
    "import h5py\n",
    "import json\n",
    "\n",
    "# the IPython magic below must be commented out in the .py file, since it doesn't work there.\n",
    "%matplotlib inline\n",
    "%config InlineBackend.figure_format = 'retina'\n",
    "import matplotlib.pyplot as plt\n",
    "import matplotlib.mlab as mlab\n",
    "\n",
    "# LIGO-specific readligo.py \n",
    "import readligo as rl\n",
    "\n",
    "# you might get a matplotlib warning here; you can ignore it."
   ]
  }
 ],
 "metadata": {
  "kernelspec": {
   "display_name": "Python 3",
   "language": "python",
   "name": "python3"
  },
  "language_info": {
   "codemirror_mode": {
    "name": "ipython",
    "version": 3
   },
   "file_extension": ".py",
   "mimetype": "text/x-python",
   "name": "python",
   "nbconvert_exporter": "python",
   "pygments_lexer": "ipython3",
   "version": "3.6.4"
  }
 },
 "nbformat": 4,
 "nbformat_minor": 2
}
