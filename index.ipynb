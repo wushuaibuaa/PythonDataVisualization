{
 "cells": [
  {
   "cell_type": "markdown",
   "metadata": {},
   "source": [
    "> Show your data **Beautiful**"
   ]
  },
  {
   "cell_type": "markdown",
   "metadata": {},
   "source": [
    "# Python for Data Visualization"
   ]
  },
  {
   "cell_type": "markdown",
   "metadata": {},
   "source": [
    "Welcome to the introductory data visualization using Python. \n",
    "\n",
    "Brought to you by the SASEE BUAA.\n"
   ]
  },
  {
   "cell_type": "markdown",
   "metadata": {},
   "source": [
    "# 目录向导"
   ]
  },
  {
   "cell_type": "markdown",
   "metadata": {},
   "source": [
    "1. [An introduction to Python](Part1/Part1_Intro_to_Python.ipynb)\n",
    "2. [Introduction to PsychoPy for creating experiments](Part2/Part2_PsychoPy.ipynb)\n",
    "3. [Transitioning from MATLAB to Python](Part3/Part3_Scientific_Python.ipynb)\n",
    "4. [More practice with PsychoPy](Part4/Part4_Practice_with_PsychoPy.ipynb)\n",
    "5. [Streamline research with psychopy_ext](Part5/Part5_psychopy_ext.ipynb)\n",
    "6. [Multi-voxel pattern analysis](Part6/Part6_MVPA.ipynb)\n",
    "7. [Natural image statistics](Part7/Part7_Image_Statistics.ipynb)"
   ]
  }
 ],
 "metadata": {
  "kernelspec": {
   "display_name": "Python 3",
   "language": "python",
   "name": "python3"
  },
  "language_info": {
   "codemirror_mode": {
    "name": "ipython",
    "version": 3
   },
   "file_extension": ".py",
   "mimetype": "text/x-python",
   "name": "python",
   "nbconvert_exporter": "python",
   "pygments_lexer": "ipython3",
   "version": "3.6.4"
  }
 },
 "nbformat": 4,
 "nbformat_minor": 1
}
