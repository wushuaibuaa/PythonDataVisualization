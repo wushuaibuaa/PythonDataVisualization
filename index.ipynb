{
 "cells": [
  {
   "cell_type": "markdown",
   "metadata": {},
   "source": [
    "# 漂亮的展示数据(Python版）\n",
    "> Show your data **Beautifully**"
   ]
  },
  {
   "cell_type": "markdown",
   "metadata": {},
   "source": [
    "Welcome to the introductory data visualization using Python. \n",
    "\n",
    "Brought to you by the SASEE BUAA."
   ]
  },
  {
   "cell_type": "markdown",
   "metadata": {},
   "source": [
    "# 课程目录向导"
   ]
  },
  {
   "cell_type": "markdown",
   "metadata": {},
   "source": [
    "1. [数据可视化简介](Lesson1/Introduction.ipynb)\n",
    "2. Python及其绘图工具基础介绍\n",
    "    1. [Python基本介绍](Lesson2/Python介绍.ipynb)\n",
    "    2. [Jupyter Notebook介绍](Lesson2/IntroJupyterNotebook.ipynb)\n",
    "    2. [Python绘图工具-Matplotlib](Lesson2/Python介绍.ipynb)\n",
    "    3. [Python绘图工具-Pandas](Lesson2/Pandas.ipynb)\n",
    "    4. [Python绘图工具-Seaborn](Lesson2/Seaborn.ipynb)\n",
    "3. [舞动的线条](Lesson3/曲线图.ipynb)\n",
    "4. [错落有致](Lesson4/高低错落.ipynb)\n",
    "5. [星星点点](Lesson5/ScatterPlot.ipynb)\n",
    "6. [可口的Pie](Lesson6/3D图.ipynb)\n",
    "7. [突破平面](Lesson7/漂亮的pie.ipynb)\n",
    "8. [让图动起来](Lesson8/动态图.ipynb)"
   ]
  }
 ],
 "metadata": {
  "anaconda-cloud": {},
  "kernelspec": {
   "display_name": "Python 3",
   "language": "python",
   "name": "python3"
  },
  "language_info": {
   "codemirror_mode": {
    "name": "ipython",
    "version": 3
   },
   "file_extension": ".py",
   "mimetype": "text/x-python",
   "name": "python",
   "nbconvert_exporter": "python",
   "pygments_lexer": "ipython3",
   "version": "3.5.2"
  }
 },
 "nbformat": 4,
 "nbformat_minor": 1
}
