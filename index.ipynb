{
 "cells": [
  {
   "cell_type": "markdown",
   "metadata": {},
   "source": [
    "# 数据可视化(Python版）\n",
    "> Show your data **Beautifully**"
   ]
  },
  {
   "cell_type": "markdown",
   "metadata": {},
   "source": [
    "Welcome to the introductory data visualization using Python."
   ]
  },
  {
   "cell_type": "markdown",
   "metadata": {},
   "source": [
    "# 课程目录向导"
   ]
  },
  {
   "cell_type": "markdown",
   "metadata": {},
   "source": [
    "1. [数据可视化简介](Lesson1/Introduction.ipynb)\n",
    "    1. 数据可视化的基本概念\n",
    "    \n",
    "    2. 数据的分类和可视化基本特点，数据转换为图形的基本过程\n",
    "    \n",
    "    3. 数据可视化的用途和目前数据可视化的发展概况。\n",
    "\n",
    "    > 基本要求：了解数据可视化概念，数据可视化的目标，并意识到可视化的重要性。\n",
    "2. Python及其绘图工具基础介绍\n",
    "    1. [Python基本介绍](Lesson2/Python介绍.ipynb)\n",
    "    2. [Jupyter Notebook介绍](Lesson2/IntroJupyterNotebook.ipynb)\n",
    "    2. [Python绘图工具-Matplotlib](Lesson2/matplotlib.ipynb)\n",
    "    3. [Python绘图工具-Seaborn](Lesson2/Seaborn.ipynb)\n",
    "    4. [Python绘图工具-Boken](Lesson2/bokenquickstart.ipynb)\n",
    "    5. [Python绘图工具-Pandas](Lesson2/Pandas.ipynb)\n",
    "    \n",
    "    > 基本要求：学会Python的基本语法，了解Python数据可视化的工具包，了解Jupyter Notebook的使用。\n",
    "    \n",
    "3. [舞动的线条](Lesson3/曲线图.ipynb)\n",
    "    \n",
    "    1. 曲线类数据可视化的基本技巧和相关的数据处理方法、程序编写\n",
    "    2. 曲线图的绘图技巧和要注意的问题\n",
    "    3. 通过引力波数据可视化的实例学习适用于曲线图的数据和如何实现最佳展示效果。\n",
    "\n",
    "    > 基本要求：掌握基于Python的Matplotlib编程实现曲线图的绘制，掌握曲线类科技绘图的技巧，掌握相关的数据处理方法。\n",
    "    \n",
    "4. [错落有致](Lesson4/高低错落.ipynb)\n",
    "\n",
    "    1. 柱状图和直方图数据可视化的基本技巧和相关的数据处理方法、程序编写\n",
    "    2. 柱状图和直方图的绘图技巧和要注意的问题\n",
    "    3. 通过交通事故数据分析实例学习适用于柱状图和直方图的数据和如何实现最佳展示效果。\n",
    "\n",
    "    > 基本要求：掌握基于Python的Matplotlib编程实现柱状图和直方图的绘制，掌握柱状图和直方图类科技绘图的技巧，掌握相关的数据处理方法。\n",
    "\n",
    "5. [星星点点](Lesson5/ScatterPlot.ipynb)\n",
    "\n",
    "    1. 散点图数据可视化的基本技巧和相关的数据处理方法、程序编写\n",
    "    2. 散点图的绘图技巧和要注意的问题\n",
    "    3. 通过物种分类数据的实例学习适用于散点图的数据和如何实现最佳展示效果。\n",
    "    \n",
    "    > 基本要求：掌握基于Python的Matplotlib编程实现散点图的绘制，掌握散点图科技绘图的技巧，掌握相关的数据处理方法。\n",
    "\n",
    "6. [可口的Pie](Lesson6/漂亮的pie.ipynb)\n",
    "\n",
    "    1. 饼图类的数据可视化的基本技巧和相关的数据处理方法、程序编写\n",
    "    2. 饼图类的绘图技巧和要注意的问题\n",
    "    3. 通过学科分类数据实例学习适用于饼图类的数据和如何实现最佳展示效果。\n",
    "\n",
    "    > 基本要求：掌握基于Python的Matplotlib编程实现饼图类的绘制，掌握饼图类科技绘图的技巧，掌握相关的数据处理方法。\n",
    "\n",
    "7. [突破平面](Lesson7/3D图.ipynb)\n",
    "\n",
    "    1. 3维的数据可视化的基本技巧和相关的数据处理方法、程序编写\n",
    "    2. 3维图形的绘图技巧和要注意的问题\n",
    "    3. 通过傅里叶变换的实例学习适用于3维的数据和如何实现最佳展示效果。\n",
    "\n",
    "    > 基本要求：掌握基于Python的Matplotlib编程实现3维的绘制，掌握3维图的绘图技巧，掌握相关的数据处理方法。\n",
    "    \n",
    "8. [让图动起来](Lesson8/动态图.ipynb)\n",
    "\n",
    "    1. 动态图的数据可视化的基本技巧和相关的数据处理方法、程序编写\n",
    "    2. 动态图图形的绘图技巧和要注意的问题\n",
    "    3. 通过多目标优化与pareto前沿动态更新的实例学习适用于动态图的数据以及如何实现最佳展示效果。\n",
    "\n",
    "    > 基本要求：掌握基于Python的Matplotlib编程实现动态图的绘制，掌握动态图科技绘图的技巧，掌握相关的数据处理方法。\n"
   ]
  },
  {
   "cell_type": "markdown",
   "metadata": {},
   "source": [
    "    \n",
    "## 教学方法\n",
    "在教学过程中，体现“学生主体、教师主导”教学思想，通过贯穿一学期的数据可视化例程和作业，培养学生创新思维、理论与实践结合、计算机编程的能力，釆用基于问题和案例与的教学方式提高学生学以致用的能力。\n",
    "\n",
    "## 课内外教学环节及基本要求\n",
    "本课程课内外学时为1:2，要求学生能够在一学期内学会基于Python的数据可视化工具和编程，并通过大作业实现数据的展示。\n",
    "\n",
    "## 考核方式及成绩评定\n",
    "本课程的成绩主要通过数据可视化作业的情况，将布置4-5个数据可视化作业，根据作业的情况分配相应的权重，最后计算总的成绩。\n",
    "\n",
    "\n",
    "## 教材和参考资料\n",
    "### 教材： \n",
    "\n",
    "本课程不使用教程，提供在线交互式讲义Jyputer Notebook文档，学生可以下载学习以及运行。\n",
    "\n",
    "### 参考资料：\n",
    "- 数据之美，[美]Nathan Yau,张申译，中国人民大学出版社，2014\n",
    "- Python数据可视化，[印度]科斯.拉曼，程豪译，机械工业出版社，2017年\n",
    "- Python科学计算，张若愚 著，清华大学出版社，2016."
   ]
  }
 ],
 "metadata": {
  "anaconda-cloud": {},
  "kernelspec": {
   "display_name": "Python 3",
   "language": "python",
   "name": "python3"
  },
  "language_info": {
   "codemirror_mode": {
    "name": "ipython",
    "version": 3
   },
   "file_extension": ".py",
   "mimetype": "text/x-python",
   "name": "python",
   "nbconvert_exporter": "python",
   "pygments_lexer": "ipython3",
   "version": "3.6.4"
  }
 },
 "nbformat": 4,
 "nbformat_minor": 2
}
