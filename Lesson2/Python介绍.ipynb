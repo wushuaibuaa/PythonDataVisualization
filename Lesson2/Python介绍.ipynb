{
 "cells": [
  {
   "cell_type": "markdown",
   "metadata": {},
   "source": [
    "# 我爱Python\n",
    "\n",
    "\n",
    "## Python介绍\n",
    "\n",
    "> 人生苦短，我用Python\n",
    "\n",
    "\n"
   ]
  },
  {
   "cell_type": "markdown",
   "metadata": {},
   "source": [
    "## Python安装\n",
    "\n",
    "\n",
    "### Anaconda\n",
    "\n",
    "Python易用，但用好却不易，其中比较头疼的就是包管理和Python不同版本的问题，特别是当你使用Windows的时候。为了解决这些问题，有不少发行版的Python，比如WinPython、Anaconda、pycharm等，这些发行版将python和许多常用的package打包，方便pythoners直接使用，此外，还有virtualenv、pyenv等工具管理虚拟环境。\n",
    "\n",
    "本次课推荐Anaconda，因为其强大而方便的包管理与环境管理的功能。该文主要介绍下Anaconda，对Anaconda的理解，并简要总结下相关的操作。\n",
    "\n",
    "#### 为什么选择Anaconda？\n",
    "\n",
    "##### 什么是 Anaconda？\n",
    "\n",
    "Anaconda是专注于数据分析的Python发行版本，包含了conda、Python等190多个科学包及其依赖项。作为好奇宝宝的你是不是发现了一个新名词 conda，那么你一定会问 conda 又是什么呢？\n",
    "\n",
    "##### 什么是 conda ？\n",
    "\n",
    "conda 是开源包（packages）和虚拟环境（environment）的管理系统。\n",
    "\n",
    "packages 管理： 可以使用 conda 来安装、更新 、卸载工具包 ，并且它更关注于数据科学相关的工具包。在安装 anaconda 时就预先集成了像 Numpy、Scipy、 pandas、Scikit-learn 这些在数据分析中常用的包。另外值得一提的是，conda 并不仅仅管理Python的工具包，它也能安装非python的包。比如在新版的 Anaconda 中就可以安装R语言的集成开发环境 Rstudio。\n",
    "\n",
    "虚拟环境管理： 在conda中可以建立多个虚拟环境，用于隔离不同项目所需的不同版本的工具包，以防止版本上的冲突。对纠结于 Python 版本的同学们，我们也可以建立 Python2 和 Python3 两个环境，来分别运行不同版本的 Python 代码。\n",
    "\n",
    "知道 是什么（what） 的同时，我们也需要问一问 为什么（why）。那么，为什么要选择用Anaconda呢？\n",
    "\n",
    "#####  Anaconda 的优点？\n",
    "\n",
    "Anaconda的优点总结起来就八个字：**省时省心、分析利器**。\n",
    "\n",
    "- 省时省心： Anaconda通过管理工具包、开发环境、Python版本，大大简化了你的工作流程。不仅可以方便地安装、更新、卸载工具包，而且安装时能自动安装相应的依赖包，同时还能使用不同的虚拟环境隔离不同要求的项目。\n",
    "\n",
    "- 分析利器： 在 Anaconda 官网中是这么宣传自己的：适用于企业级大数据分析的Python工具。其包含了720多个数据科学相关的开源包，在数据可视化、机器学习、深度学习等多方面都有涉及。不仅可以做数据分析，甚至可以用在大数据和人工智能领域。\n",
    "\n",
    "\n",
    "#### 如何安装Anaconda？\n",
    "\n",
    "- Anaconda的下载页参见官网，Linux、Mac、Windows均支持。也可以通过清华大学镜像下载Anaconda镜像，可以加快下载速度。\n",
    "\n",
    "- 下载时会发现有不同版本的Anaconda，分别对应Python2.7和Python3.X，推荐使用3.X系列，2.7已经停止官方更新。找到适合自己的电脑系统的版本下载。安装时一直点next就可以安装完成。\n",
    "\n",
    "- 安装完成之后点击Anaconda Navigator就可以显示如下的界面，就表明安装已经完成。\n",
    "\n",
    " <img src=\"figures/anaconda.png\" width = \"800\" alt=\"python 脚本介绍\" align=center />"
   ]
  },
  {
   "cell_type": "markdown",
   "metadata": {},
   "source": [
    "# Python介绍\n",
    "\n",
    "> *python你不去认识它，可能没什么，一旦你认识了它，你就会爱上它*\n",
    "\n",
    "Python（英语发音：/ˈpaɪθən/）, 是一种面向对象、解释型计算机程序设计语言，由Guido van Rossum于1989年发明，第一个公开发行版发行于1991年。\n",
    "\n",
    "Python是纯粹的自由软件， 源代码和解释器CPython遵循 GPL(GNU General Public License)协议。\n",
    "\n",
    "Python语法简洁清晰，特色之一是强制用空白符(white space)作为语句缩进。\n",
    "\n",
    "Python具有丰富和强大的库。它常被昵称为胶水语言，能够把用其他语言制作的各种模块（尤其是C/C++）很轻松地联结在一起。常见的一种应用情形是，使用Python快速生成程序的原型（有时甚至是程序的最终界面），然后对其中有特别要求的部分，用更合适的语言改写，比如3D游戏中的图形渲染模块，性能要求特别高，就可以用C/C++重写，而后封装为Python可以调用的扩展类库。需要注意的是在您使用扩展类库时可能需要考虑平台问题，某些可能不提供跨平台的实现。\n",
    "\n",
    "## Python开发环境\n",
    "\n",
    "### Python运行环境\n",
    "Python\b基础运行环境只需要到python的官网（[ttps://www.python.org/](https://www.python.org/)）下载相应的\b安装文件即可，安装完成之后需要将python的安装路径添加到系统的path环境变量中。\n",
    "\n",
    "官房的python安装环境只包含有基本的运行环境和基础的软件包，功能比较少。Python强大的地方就在于python可以找到极其多的功能包或模块。\n",
    "\n",
    "要利用Python进行科学计算，就需要一一安装所需的模块，而这些模块可能又依赖于其它的软件包或库，因而安装和使用起来相对麻烦。\n",
    "\n",
    "幸好有人专门在做这一类事情，将科学计算所需要的模块都编译好，然后打包以发行版的形式供用户使用，Anaconda就是其中一个常用的科学计算发行版。\n",
    "\n",
    "下载网址：https://www.continuum.io/downloads#windows\n",
    "\n",
    "### Python IDE \n",
    "\n",
    "优秀的Python IDE有很多，这里我就介绍几款相对我来说比较常用的！排名不分先后！\n",
    "\n",
    "- pycharm\n",
    "- Atom\n",
    "- VS Code\n",
    "- Sublime Text\n",
    "- Eclipse with PyDev\n",
    "\n",
    "\n",
    "## Python运行方式\n",
    "\n",
    "### Python\b交互式编程\n",
    "\n",
    "交互式编程不需要创建脚本文件，是通过 Python 解释器的交互模式进来编写代码。\n",
    "\n",
    "只需要在命令行中输入 Python 命令即可启动交互式编程\b窗口。\n",
    "\n",
    "在 python 提示符中输入以下文本信息，然后按 Enter 键查看运行效果：\n",
    "\n",
    "```python\n",
    "print(\"Hello, Python!\")\n",
    "```\n",
    "\n",
    "### Python\b脚本式编程\n",
    "\n",
    "通过脚本参数调用解释器开始执行脚本，直到脚本执行完毕。当脚本执行完成后，解释器不再有效。\n",
    "\n",
    "让我们写一个简单的 Python 脚本程序。所有 Python 文件将以 .py 为扩展名，例如将上面的print代码放到test.py文件中。\n",
    "\n",
    "假设你已经设置了Python解释器 的 PATH 变量。使用以下命令运行程序：\n",
    "\n",
    "```dos\n",
    "python test.py\n",
    "```\n",
    "\n",
    "- 标准的python脚本文件\n",
    "\n",
    " <img src=\"figures/pythonintro.jpg\" width = \"600\" alt=\"python 脚本介绍\" align=center />\n",
    "\n",
    "\n",
    "## Python基础语法\n",
    "\n",
    "### 行和缩进\n",
    "- 一个程序员学习Python时，遇到的第一个需要注意的地方是，不使用括号来表示代码的类和函数定义块或流程控制。代码块是由行缩进，这是严格执行表示方式。\n",
    "\n",
    "- 在缩进位的数目是可变的，但是在块中的所有语句必须缩进相同的量。\n",
    "\n",
    "- python推荐使用4个空格或者tab键作为缩进。\n",
    "\n",
    "\n",
    "### 标识符\n",
    "\n",
    "第一个字符必须是字母表中字母或下划线'_'。\n",
    "标识符的其他的部分有字母、数字和下划线组成。\n",
    "标识符对大小写敏感。\n",
    "\n"
   ]
  },
  {
   "cell_type": "markdown",
   "metadata": {},
   "source": [
    "## Python基础语法\n",
    "\n",
    "### 行和缩进\n",
    "- 一个程序员学习Python时，遇到的第一个需要注意的地方是，不使用括号来表示代码的类和函数定义块或流程控制。代码块是由行缩进，这是严格执行表示方式。\n",
    "\n",
    "- 在缩进位的数目是可变的，但是在块中的所有语句必须缩进相同的量。\n",
    "\n",
    "- python推荐使用4个空格或者tab键作为缩进。\n",
    "\n",
    "\n",
    "### 标识符\n",
    "\n",
    "第一个字符必须是字母表中字母或下划线'_'。\n",
    "标识符的其他的部分有字母、数字和下划线组成。\n",
    "标识符对大小写敏感。\n",
    "\n",
    "\n",
    "### python的保留字\n",
    "\n",
    "```python\n",
    "['False','None','True','and','as','assert','break','class','continue','def','del','elif','else','except','finally','for','from','global','if','import','in','is','lambda','nonlocal','not','or','pass','raise','return','try','while','with','yield']\n",
    "```\n"
   ]
  },
  {
   "cell_type": "markdown",
   "metadata": {},
   "source": [
    "### 注释\n",
    "\n",
    "- Python中单行注释以#开头\n",
    "- 多行注释用两个三引号括起来\n",
    "```python\n",
    "'''\n",
    "注释内容\n",
    "'''\n",
    "```"
   ]
  },
  {
   "cell_type": "code",
   "execution_count": null,
   "metadata": {
    "collapsed": true
   },
   "outputs": [],
   "source": [
    "#!/usr/bin/python3\n",
    "#第一个注释 \n",
    "print(\"Hello,Python!\")\n",
    "# 第二个注释 执行以上代码，输出结果为：Hello,Python! \n",
    "# 多行注释可以用多个#号：\n",
    "# !/usr/bin/python3\n",
    "# 第一个注释\n",
    "# 第二个注释 \n",
    "print(\"Hello,Python!\")\n",
    "# 执行以上代码，输出结果为：Hello,Python!"
   ]
  },
  {
   "cell_type": "markdown",
   "metadata": {},
   "source": [
    "### 定义变量：\n",
    "- Python定义变量的方式很简单。"
   ]
  },
  {
   "cell_type": "code",
   "execution_count": 8,
   "metadata": {},
   "outputs": [
    {
     "name": "stdout",
     "output_type": "stream",
     "text": [
      "<class 'int'>\n",
      "<class 'float'>\n",
      "3.0\n",
      "<class 'float'>\n"
     ]
    }
   ],
   "source": [
    "x=1\n",
    "print(type(x))\n",
    "y=2.0\n",
    "print(type(y))\n",
    "z=x+y\n",
    "print(z)\n",
    "print(type(z))"
   ]
  },
  {
   "cell_type": "markdown",
   "metadata": {},
   "source": [
    "- Python中的变量不需要声明。每个变量在使用前都必须赋值，变量赋值以后该变量才会被创建\n",
    "\n",
    "- Python 3支持int、float、bool、complex（复数）。\n",
    "\n",
    "- 在 Python 中，变量就是变量，它没有类型，我们所说的\"类型\"是变量所指的内存中对象的类型。\n",
    "    - 等号（=）用来给变量赋值。\n",
    "    - 等号（=）运算符左边是一个变量名,等号（=）运算符右边是存储在变量- 中的值。\n",
    "    - 一个变量可以通过赋值指向不同类型的对象。\n",
    "    - 数值的除法（/）总是返回一个浮点数，要获取整数使用//操作符。\n",
    "    - 在混合计算时，Python会把整型转换成为浮点数。"
   ]
  },
  {
   "cell_type": "code",
   "execution_count": null,
   "metadata": {
    "collapsed": true
   },
   "outputs": [],
   "source": [
    "counter = 100      # 整型变量\n",
    "miles = 1000.0       # 浮点型变量\n",
    "name = \"runoob\"     # 字符串\n",
    "print (counter)\n",
    "print (miles)\n",
    "print (name)\n",
    "\n",
    "a = b = c = 1  # 多个变量赋值\n",
    "a, b = 1, 2  # Python可以同时为多个变量赋值"
   ]
  },
  {
   "cell_type": "markdown",
   "metadata": {},
   "source": [
    "> 其实现在在国外很多大学都是把Python作为计算机语言入门的第一门语言，因为python语言可以说是人类的语言，很容易上手，一眼就能看懂(不过大部分语言都是这样，入门容易深入难，要持之以恒)。"
   ]
  },
  {
   "cell_type": "markdown",
   "metadata": {},
   "source": [
    "###  字符串\n",
    "- python中的字符串str用单引号(' ')或双引号(\" \")括起来，同时使用反斜杠(\\)转义特殊字符\n",
    "\n",
    "- 字符串可以使用 + 运算符串连接在一起，或者用 * 运算符重复\n",
    "\n",
    "- 使用三引号('''...'''或\"\"\"...\"\"\")可以指定一个多行字符串\n",
    "\n",
    "- 如果不想让反斜杠发生转义，可以在字符串前面添加一个 r 或 R, 表示原始字符串。"
   ]
  },
  {
   "cell_type": "code",
   "execution_count": null,
   "metadata": {
    "collapsed": true
   },
   "outputs": [],
   "source": [
    "text = 'ice'+' cream'\n",
    "print(text)\n",
    "\n",
    "text = 'ice cream '*3\n",
    "print(text)\n",
    "\n",
    "text = '''呵呵\n",
    "          呵呵呵\n",
    "          呵呵呵呵'''\n",
    "\n",
    "print(text)\n",
    "text = 'ice\\\n",
    "        cream'\n",
    "print(text)\n",
    "\n",
    "print(r\"this is a line with \\n\")"
   ]
  },
  {
   "cell_type": "markdown",
   "metadata": {},
   "source": [
    "- 字符串有两种索引方式，第一种是从左往右，从0开始依次增加；第二种是从右往左，从-1开始依次减少。\n",
    "- python中没有单独的字符类型，一个字符就是长度为1的字符串"
   ]
  },
  {
   "cell_type": "code",
   "execution_count": null,
   "metadata": {
    "collapsed": true
   },
   "outputs": [],
   "source": [
    "text = 'ice cream'\n",
    "print(len(text))\n",
    "\n",
    "print(text[0])  # i\n",
    "print(text[-9])  # i\n",
    "\n",
    "print(text[8])  # m\n",
    "print(text[-1])  # m"
   ]
  },
  {
   "cell_type": "markdown",
   "metadata": {},
   "source": [
    "- python字符串不能被改变。向一个索引位置赋值会导致错误\n",
    "- 还可以对字符串进行切片，获取一段子串。用冒号分隔两个索引，形式为变量[头下标:尾下标]。\n",
    "- 截取的范围是前闭后开的，并且两个索引都可以省略"
   ]
  },
  {
   "cell_type": "code",
   "execution_count": null,
   "metadata": {
    "collapsed": true
   },
   "outputs": [],
   "source": [
    "text = 'ice cream'\n",
    "text[0] = 't'  # 报错\n",
    "print(text) "
   ]
  },
  {
   "cell_type": "markdown",
   "metadata": {},
   "source": [
    "### 分支\n",
    "\n",
    "- if-else 语句与其他语言类似，不再赘述\n",
    "\n",
    "- if-elif-else 语句，相当于c或java语言中的if-else if-else"
   ]
  },
  {
   "cell_type": "code",
   "execution_count": 3,
   "metadata": {},
   "outputs": [
    {
     "name": "stdout",
     "output_type": "stream",
     "text": [
      "Please input your score : 90\n",
      "A\n",
      "Please input your score : 70\n",
      "C\n",
      "Please input your score : x\n"
     ]
    }
   ],
   "source": [
    "while True:\n",
    "    instr = input(\"Please input your score : \")\n",
    "    if instr.isdigit():\n",
    "        score = int(instr)\n",
    "    else:\n",
    "        break\n",
    "    if 90 <= score <= 100:\n",
    "        print('A')\n",
    "    elif score >= 80:\n",
    "        print('B')\n",
    "    elif score >= 70:\n",
    "        print('C')\n",
    "    elif score >= 60:\n",
    "        print('D')\n",
    "    else:\n",
    "        print('Your score is too low')"
   ]
  },
  {
   "cell_type": "markdown",
   "metadata": {},
   "source": [
    "### 循环\n",
    "\n",
    "while循环语句一般形式：\n",
    "\n",
    "```python\n",
    "while 判断条件：\n",
    "    statement\n",
    "```"
   ]
  },
  {
   "cell_type": "code",
   "execution_count": null,
   "metadata": {
    "collapsed": true
   },
   "outputs": [],
   "source": [
    "import random\n",
    "\n",
    "print(\"hello world!\\n\")\n",
    "number = random.randint(1, 10)\n",
    "temp = input(\"Please input a number : \")\n",
    "i = int(temp)\n",
    "\n",
    "while i != number:\n",
    "    print(\"wrong...\")\n",
    "    if i < number:\n",
    "        print(\"required a bigger number\")\n",
    "    else:\n",
    "        print(\"required a smaller number\")\n",
    "    temp = input(\"Please input a number : \")\n",
    "    i = int(temp)\n",
    "\n",
    "print(\"yes...\")"
   ]
  },
  {
   "cell_type": "markdown",
   "metadata": {},
   "source": [
    "for循环的一般格式如下：\n",
    "```python\n",
    "for <variable> in <sequence>:\n",
    "　　<statements>\n",
    "else:\n",
    "　　<statements>\n",
    "```"
   ]
  },
  {
   "cell_type": "code",
   "execution_count": null,
   "metadata": {
    "collapsed": true
   },
   "outputs": [],
   "source": [
    "languaegs = ['C','c++','java','python']\n",
    "for language in languaegs:\n",
    "    print(language, len(language))"
   ]
  },
  {
   "cell_type": "markdown",
   "metadata": {},
   "source": [
    "> 循环语句可以有else子句\n",
    "它在穷尽列表(以for循环)或条件变为假(以while循环)循环终止时被执行\n",
    "但循环被break终止时不执行.\n",
    "如下查寻质数的循环例子:"
   ]
  },
  {
   "cell_type": "code",
   "execution_count": null,
   "metadata": {
    "collapsed": true
   },
   "outputs": [],
   "source": [
    "for num in range(2, 10):\n",
    "    for x in range(2, num):\n",
    "        if num%x == 0:\n",
    "            print(num, 'equals', x, '*', num//x)\n",
    "            break\n",
    "    else:\n",
    "        # 循环中没有找到元素\n",
    "        print(num, 'is a prime number')"
   ]
  },
  {
   "cell_type": "markdown",
   "metadata": {},
   "source": [
    "如果需要遍历数字序列，可以使用内置range()函数："
   ]
  },
  {
   "cell_type": "code",
   "execution_count": null,
   "metadata": {
    "collapsed": true
   },
   "outputs": [],
   "source": [
    "# range()函数,含头不含尾\n",
    "# 0~4\n",
    "\n",
    "for i in range(5):\n",
    "    print(i)\n",
    "\n",
    "# 2~7\n",
    "for i in range(2, 8):\n",
    "    print(i)\n",
    "\n",
    "# 1~9 步长为3\n",
    "for i in range(1, 10, 3):\n",
    "    print(i)"
   ]
  },
  {
   "cell_type": "markdown",
   "metadata": {},
   "source": [
    "## Python科学计算\n",
    "\n",
    "Python专用的科学计算扩展库有很多，例如两个十分经典的科学计算扩展库：NumPy和SciPy和它们分别为Python提供了快速数组处理、数值运算等功能。因此Python语言十分适合工程技术、科研人员处理实验数据，制作图表，甚至开发科学计算应用程序。\n",
    "\n",
    "- numpy\n",
    "\n",
    "NumPy系统是Python的一种开源的数组计算扩展。这种工具可用来存储和处理大型矩阵，比Python自身的嵌套列表（nested list structure)结构要高效的多（该结构也可以用来表示矩阵（matrix））。\n",
    "\n",
    "<img src=\"./figures/numpy.png\" width = \"600\" align=center>\n",
    "\n",
    "- scipy\n",
    "\n",
    "SciPy是世界上著名的Python开源科学计算库，建立在Numpy之上。它增加的功能包括数值积分、最优化、统计和线性代数、常微分方程数值求解、信号处理、图像处理、稀疏矩阵等等。\n",
    "\n",
    "<img src=\"./figures/scipy.png\" width = \"600\" align=center>\n",
    "\n"
   ]
  },
  {
   "cell_type": "markdown",
   "metadata": {},
   "source": [
    "**接下来就要重点讲Python针对数据可视化功能**"
   ]
  }
 ],
 "metadata": {
  "anaconda-cloud": {},
  "kernelspec": {
   "display_name": "Python 3",
   "language": "python",
   "name": "python3"
  },
  "language_info": {
   "codemirror_mode": {
    "name": "ipython",
    "version": 3
   },
   "file_extension": ".py",
   "mimetype": "text/x-python",
   "name": "python",
   "nbconvert_exporter": "python",
   "pygments_lexer": "ipython3",
   "version": "3.6.4"
  }
 },
 "nbformat": 4,
 "nbformat_minor": 1
}
