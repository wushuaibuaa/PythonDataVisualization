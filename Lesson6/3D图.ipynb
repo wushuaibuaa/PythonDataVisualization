{
 "cells": [
  {
   "cell_type": "code",
   "execution_count": null,
   "metadata": {
    "collapsed": true
   },
   "outputs": [],
   "source": [
    "import plotly.plotly as py\n",
    "from plotly.graph_objs import *\n",
    "\n",
    "def make_kdeplot(varX, varY, (a,b), (c,d), N, colorsc, title):\n",
    "    #varX, varY are lists, 1d numpy.array(s), or dataframe columns, storing the values of two variables\n",
    "\n",
    "    x, y, Z = kde_scipy(varY, varX, (a,b), (c,d), N )\n",
    "\n",
    "    data = Data([\n",
    "       Contour(\n",
    "           z=Z,\n",
    "           x=x,\n",
    "           y=y,\n",
    "           colorscale=colorsc,\n",
    "           #reversescale=True,\n",
    "           opacity=0.9,\n",
    "           contours=Contours(\n",
    "               showlines=False)\n",
    "        ),\n",
    "     ])\n",
    "\n",
    "    layout = Layout(\n",
    "        title= title,\n",
    "        font= Font(family='Georgia, serif',  color='#635F5D'),\n",
    "        showlegend=False,\n",
    "        autosize=False,\n",
    "        width=650,\n",
    "        height=650,\n",
    "        xaxis=XAxis(\n",
    "            range=[a,b],\n",
    "            showgrid=False,\n",
    "            nticks=7\n",
    "        ),\n",
    "        yaxis=YAxis(\n",
    "            range=[c,d],\n",
    "            showgrid=False,\n",
    "            nticks=7\n",
    "        ),\n",
    "        margin=Margin(\n",
    "            l=40,\n",
    "            r=40,\n",
    "            b=85,\n",
    "            t=100,\n",
    "        ),\n",
    "    )\n",
    "\n",
    "    return Figure( data=data, layout=layout )\n",
    "\n",
    "N=200\n",
    "a,b=(5,11)\n",
    "fig=make_kdeplot(dfc['multiannual'], dfc['bachelor-th'], (a,b), (a,b),\n",
    "                 N, cubehelix_cs,'kde plot of two sets of data' )\n",
    "\n",
    "py.sign_in('empet', 'my_api_key')\n",
    "py.iplot(fig, filename='kde-2D-CSCE')"
   ]
  },
  {
   "cell_type": "markdown",
   "metadata": {},
   "source": [
    "## Basic Ribbon Plot"
   ]
  },
  {
   "cell_type": "code",
   "execution_count": null,
   "metadata": {
    "collapsed": true
   },
   "outputs": [],
   "source": [
    "import plotly.plotly as py\n",
    "import plotly.graph_objs as go\n",
    "\n",
    "import urllib\n",
    "import numpy as np\n",
    "\n",
    "url = \"https://raw.githubusercontent.com/plotly/datasets/master/spectral.csv\"\n",
    "f = urllib.urlopen(url)\n",
    "spectra=np.loadtxt(f, delimiter=',')\n",
    "\n",
    "traces = []\n",
    "y_raw = spectra[:, 0] # wavelength\n",
    "sample_size = spectra.shape[1]-1 \n",
    "for i in range(1, sample_size):\n",
    "    z_raw = spectra[:, i]\n",
    "    x = []\n",
    "    y = []\n",
    "    z = []\n",
    "    ci = int(255/sample_size*i) # ci = \"color index\"\n",
    "    for j in range(0, len(z_raw)):\n",
    "        z.append([z_raw[j], z_raw[j]])\n",
    "        y.append([y_raw[j], y_raw[j]])\n",
    "        x.append([i*2, i*2+1])\n",
    "    traces.append(dict(\n",
    "        z=z,\n",
    "        x=x,\n",
    "        y=y,\n",
    "        colorscale=[ [i, 'rgb(%d,%d,255)'%(ci, ci)] for i in np.arange(0,1.1,0.1) ],\n",
    "        showscale=False,\n",
    "        type='surface',\n",
    "    ))\n",
    "\n",
    "fig = { 'data':traces, 'layout':{'title':'Ribbon Plot'} }\n",
    "py.iplot(fig, filename='ribbon-plot-python')"
   ]
  }
 ],
 "metadata": {
  "anaconda-cloud": {},
  "kernelspec": {
   "display_name": "Python [default]",
   "language": "python",
   "name": "python3"
  },
  "language_info": {
   "codemirror_mode": {
    "name": "ipython",
    "version": 3
   },
   "file_extension": ".py",
   "mimetype": "text/x-python",
   "name": "python",
   "nbconvert_exporter": "python",
   "pygments_lexer": "ipython3",
   "version": "3.5.2"
  }
 },
 "nbformat": 4,
 "nbformat_minor": 1
}
