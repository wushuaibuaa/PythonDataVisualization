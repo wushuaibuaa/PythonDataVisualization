{
 "cells": [
  {
   "cell_type": "markdown",
   "metadata": {},
   "source": [
    "# 用Python实现动态图\n",
    "\n",
    "\n",
    "## 优化放在这里\n",
    "\n",
    "\n",
    "## Pareto前沿的概念\n",
    "\n",
    "\n",
    "## 多目标优化\n",
    "\n",
    "\n",
    "## 优化的动态过程\n",
    "\n",
    "\n",
    "<img src=\"./figures/my_animation2.gif\" width = \"500\"  align=center>\n",
    "\n",
    "\n",
    "\n",
    "<img src=\"./figures/my_animationHSV.gif\" width = \"600\"  align=center>"
   ]
  }
 ],
 "metadata": {
  "anaconda-cloud": {},
  "kernelspec": {
   "display_name": "Python [default]",
   "language": "python",
   "name": "python3"
  },
  "language_info": {
   "codemirror_mode": {
    "name": "ipython",
    "version": 3
   },
   "file_extension": ".py",
   "mimetype": "text/x-python",
   "name": "python",
   "nbconvert_exporter": "python",
   "pygments_lexer": "ipython3",
   "version": "3.5.2"
  }
 },
 "nbformat": 4,
 "nbformat_minor": 1
}
